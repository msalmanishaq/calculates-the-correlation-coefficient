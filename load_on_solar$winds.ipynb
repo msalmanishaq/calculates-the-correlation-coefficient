{
 "cells": [
  {
   "cell_type": "code",
   "execution_count": 1,
   "metadata": {},
   "outputs": [],
   "source": [
    "import pandas as pd\n",
    "import matplotlib.pyplot as plt\n",
    "import seaborn as sns\n",
    "import plotly.express as px"
   ]
  },
  {
   "cell_type": "code",
   "execution_count": 2,
   "metadata": {},
   "outputs": [
    {
     "name": "stderr",
     "output_type": "stream",
     "text": [
      "C:\\Users\\Salman Ishaq\\AppData\\Local\\Temp\\ipykernel_10644\\3609912317.py:1: UserWarning: Could not infer format, so each element will be parsed individually, falling back to `dateutil`. To ensure parsing is consistent and as-expected, please specify a format.\n",
      "  df=pd.read_csv('Actual Generation per Production Type_202307060000-202307070000.csv',index_col=\"MTU\",parse_dates=True)\n"
     ]
    },
    {
     "data": {
      "text/html": [
       "<div>\n",
       "<style scoped>\n",
       "    .dataframe tbody tr th:only-of-type {\n",
       "        vertical-align: middle;\n",
       "    }\n",
       "\n",
       "    .dataframe tbody tr th {\n",
       "        vertical-align: top;\n",
       "    }\n",
       "\n",
       "    .dataframe thead th {\n",
       "        text-align: right;\n",
       "    }\n",
       "</style>\n",
       "<table border=\"1\" class=\"dataframe\">\n",
       "  <thead>\n",
       "    <tr style=\"text-align: right;\">\n",
       "      <th></th>\n",
       "      <th>Area</th>\n",
       "      <th>Biomass  - Actual Aggregated [MW]</th>\n",
       "      <th>Fossil Brown coal/Lignite  - Actual Aggregated [MW]</th>\n",
       "      <th>Fossil Coal-derived gas  - Actual Aggregated [MW]</th>\n",
       "      <th>Fossil Gas  - Actual Aggregated [MW]</th>\n",
       "      <th>Fossil Hard coal  - Actual Aggregated [MW]</th>\n",
       "      <th>Fossil Oil  - Actual Aggregated [MW]</th>\n",
       "      <th>Fossil Oil shale  - Actual Aggregated [MW]</th>\n",
       "      <th>Fossil Peat  - Actual Aggregated [MW]</th>\n",
       "      <th>Geothermal  - Actual Aggregated [MW]</th>\n",
       "      <th>...</th>\n",
       "      <th>Hydro Run-of-river and poundage  - Actual Aggregated [MW]</th>\n",
       "      <th>Hydro Water Reservoir  - Actual Aggregated [MW]</th>\n",
       "      <th>Marine  - Actual Aggregated [MW]</th>\n",
       "      <th>Nuclear  - Actual Aggregated [MW]</th>\n",
       "      <th>Other  - Actual Aggregated [MW]</th>\n",
       "      <th>Other renewable  - Actual Aggregated [MW]</th>\n",
       "      <th>Solar  - Actual Aggregated [MW]</th>\n",
       "      <th>Waste  - Actual Aggregated [MW]</th>\n",
       "      <th>Wind Offshore  - Actual Aggregated [MW]</th>\n",
       "      <th>Wind Onshore  - Actual Aggregated [MW]</th>\n",
       "    </tr>\n",
       "    <tr>\n",
       "      <th>MTU</th>\n",
       "      <th></th>\n",
       "      <th></th>\n",
       "      <th></th>\n",
       "      <th></th>\n",
       "      <th></th>\n",
       "      <th></th>\n",
       "      <th></th>\n",
       "      <th></th>\n",
       "      <th></th>\n",
       "      <th></th>\n",
       "      <th></th>\n",
       "      <th></th>\n",
       "      <th></th>\n",
       "      <th></th>\n",
       "      <th></th>\n",
       "      <th></th>\n",
       "      <th></th>\n",
       "      <th></th>\n",
       "      <th></th>\n",
       "      <th></th>\n",
       "      <th></th>\n",
       "    </tr>\n",
       "  </thead>\n",
       "  <tbody>\n",
       "    <tr>\n",
       "      <th>06.07.2023 00:00 - 06.07.2023 01:00 (CET/CEST)</th>\n",
       "      <td>BZN|BE</td>\n",
       "      <td>12</td>\n",
       "      <td>n/e</td>\n",
       "      <td>n/e</td>\n",
       "      <td>756</td>\n",
       "      <td>n/e</td>\n",
       "      <td>0</td>\n",
       "      <td>n/e</td>\n",
       "      <td>n/e</td>\n",
       "      <td>n/e</td>\n",
       "      <td>...</td>\n",
       "      <td>0</td>\n",
       "      <td>n/e</td>\n",
       "      <td>n/e</td>\n",
       "      <td>3516</td>\n",
       "      <td>NaN</td>\n",
       "      <td>n/e</td>\n",
       "      <td>0</td>\n",
       "      <td>141</td>\n",
       "      <td>829</td>\n",
       "      <td>726</td>\n",
       "    </tr>\n",
       "    <tr>\n",
       "      <th>06.07.2023 01:00 - 06.07.2023 02:00 (CET/CEST)</th>\n",
       "      <td>BZN|BE</td>\n",
       "      <td>12</td>\n",
       "      <td>n/e</td>\n",
       "      <td>n/e</td>\n",
       "      <td>730</td>\n",
       "      <td>n/e</td>\n",
       "      <td>0</td>\n",
       "      <td>n/e</td>\n",
       "      <td>n/e</td>\n",
       "      <td>n/e</td>\n",
       "      <td>...</td>\n",
       "      <td>0</td>\n",
       "      <td>n/e</td>\n",
       "      <td>n/e</td>\n",
       "      <td>3534</td>\n",
       "      <td>NaN</td>\n",
       "      <td>n/e</td>\n",
       "      <td>0</td>\n",
       "      <td>141</td>\n",
       "      <td>575</td>\n",
       "      <td>727</td>\n",
       "    </tr>\n",
       "    <tr>\n",
       "      <th>06.07.2023 02:00 - 06.07.2023 03:00 (CET/CEST)</th>\n",
       "      <td>BZN|BE</td>\n",
       "      <td>12</td>\n",
       "      <td>n/e</td>\n",
       "      <td>n/e</td>\n",
       "      <td>683</td>\n",
       "      <td>n/e</td>\n",
       "      <td>0</td>\n",
       "      <td>n/e</td>\n",
       "      <td>n/e</td>\n",
       "      <td>n/e</td>\n",
       "      <td>...</td>\n",
       "      <td>0</td>\n",
       "      <td>n/e</td>\n",
       "      <td>n/e</td>\n",
       "      <td>3552</td>\n",
       "      <td>NaN</td>\n",
       "      <td>n/e</td>\n",
       "      <td>0</td>\n",
       "      <td>141</td>\n",
       "      <td>642</td>\n",
       "      <td>714</td>\n",
       "    </tr>\n",
       "    <tr>\n",
       "      <th>06.07.2023 03:00 - 06.07.2023 04:00 (CET/CEST)</th>\n",
       "      <td>BZN|BE</td>\n",
       "      <td>12</td>\n",
       "      <td>n/e</td>\n",
       "      <td>n/e</td>\n",
       "      <td>714</td>\n",
       "      <td>n/e</td>\n",
       "      <td>0</td>\n",
       "      <td>n/e</td>\n",
       "      <td>n/e</td>\n",
       "      <td>n/e</td>\n",
       "      <td>...</td>\n",
       "      <td>0</td>\n",
       "      <td>n/e</td>\n",
       "      <td>n/e</td>\n",
       "      <td>3565</td>\n",
       "      <td>NaN</td>\n",
       "      <td>n/e</td>\n",
       "      <td>0</td>\n",
       "      <td>140</td>\n",
       "      <td>494</td>\n",
       "      <td>673</td>\n",
       "    </tr>\n",
       "    <tr>\n",
       "      <th>06.07.2023 04:00 - 06.07.2023 05:00 (CET/CEST)</th>\n",
       "      <td>BZN|BE</td>\n",
       "      <td>12</td>\n",
       "      <td>n/e</td>\n",
       "      <td>n/e</td>\n",
       "      <td>1015</td>\n",
       "      <td>n/e</td>\n",
       "      <td>0</td>\n",
       "      <td>n/e</td>\n",
       "      <td>n/e</td>\n",
       "      <td>n/e</td>\n",
       "      <td>...</td>\n",
       "      <td>0</td>\n",
       "      <td>n/e</td>\n",
       "      <td>n/e</td>\n",
       "      <td>3577</td>\n",
       "      <td>NaN</td>\n",
       "      <td>n/e</td>\n",
       "      <td>0</td>\n",
       "      <td>142</td>\n",
       "      <td>421</td>\n",
       "      <td>606</td>\n",
       "    </tr>\n",
       "  </tbody>\n",
       "</table>\n",
       "<p>5 rows × 22 columns</p>\n",
       "</div>"
      ],
      "text/plain": [
       "                                                  Area  \\\n",
       "MTU                                                      \n",
       "06.07.2023 00:00 - 06.07.2023 01:00 (CET/CEST)  BZN|BE   \n",
       "06.07.2023 01:00 - 06.07.2023 02:00 (CET/CEST)  BZN|BE   \n",
       "06.07.2023 02:00 - 06.07.2023 03:00 (CET/CEST)  BZN|BE   \n",
       "06.07.2023 03:00 - 06.07.2023 04:00 (CET/CEST)  BZN|BE   \n",
       "06.07.2023 04:00 - 06.07.2023 05:00 (CET/CEST)  BZN|BE   \n",
       "\n",
       "                                                Biomass  - Actual Aggregated [MW]  \\\n",
       "MTU                                                                                 \n",
       "06.07.2023 00:00 - 06.07.2023 01:00 (CET/CEST)                                 12   \n",
       "06.07.2023 01:00 - 06.07.2023 02:00 (CET/CEST)                                 12   \n",
       "06.07.2023 02:00 - 06.07.2023 03:00 (CET/CEST)                                 12   \n",
       "06.07.2023 03:00 - 06.07.2023 04:00 (CET/CEST)                                 12   \n",
       "06.07.2023 04:00 - 06.07.2023 05:00 (CET/CEST)                                 12   \n",
       "\n",
       "                                               Fossil Brown coal/Lignite  - Actual Aggregated [MW]  \\\n",
       "MTU                                                                                                  \n",
       "06.07.2023 00:00 - 06.07.2023 01:00 (CET/CEST)                                                n/e    \n",
       "06.07.2023 01:00 - 06.07.2023 02:00 (CET/CEST)                                                n/e    \n",
       "06.07.2023 02:00 - 06.07.2023 03:00 (CET/CEST)                                                n/e    \n",
       "06.07.2023 03:00 - 06.07.2023 04:00 (CET/CEST)                                                n/e    \n",
       "06.07.2023 04:00 - 06.07.2023 05:00 (CET/CEST)                                                n/e    \n",
       "\n",
       "                                               Fossil Coal-derived gas  - Actual Aggregated [MW]  \\\n",
       "MTU                                                                                                \n",
       "06.07.2023 00:00 - 06.07.2023 01:00 (CET/CEST)                                               n/e   \n",
       "06.07.2023 01:00 - 06.07.2023 02:00 (CET/CEST)                                               n/e   \n",
       "06.07.2023 02:00 - 06.07.2023 03:00 (CET/CEST)                                               n/e   \n",
       "06.07.2023 03:00 - 06.07.2023 04:00 (CET/CEST)                                               n/e   \n",
       "06.07.2023 04:00 - 06.07.2023 05:00 (CET/CEST)                                               n/e   \n",
       "\n",
       "                                                Fossil Gas  - Actual Aggregated [MW]  \\\n",
       "MTU                                                                                    \n",
       "06.07.2023 00:00 - 06.07.2023 01:00 (CET/CEST)                                   756   \n",
       "06.07.2023 01:00 - 06.07.2023 02:00 (CET/CEST)                                   730   \n",
       "06.07.2023 02:00 - 06.07.2023 03:00 (CET/CEST)                                   683   \n",
       "06.07.2023 03:00 - 06.07.2023 04:00 (CET/CEST)                                   714   \n",
       "06.07.2023 04:00 - 06.07.2023 05:00 (CET/CEST)                                  1015   \n",
       "\n",
       "                                               Fossil Hard coal  - Actual Aggregated [MW]  \\\n",
       "MTU                                                                                         \n",
       "06.07.2023 00:00 - 06.07.2023 01:00 (CET/CEST)                                        n/e   \n",
       "06.07.2023 01:00 - 06.07.2023 02:00 (CET/CEST)                                        n/e   \n",
       "06.07.2023 02:00 - 06.07.2023 03:00 (CET/CEST)                                        n/e   \n",
       "06.07.2023 03:00 - 06.07.2023 04:00 (CET/CEST)                                        n/e   \n",
       "06.07.2023 04:00 - 06.07.2023 05:00 (CET/CEST)                                        n/e   \n",
       "\n",
       "                                                Fossil Oil  - Actual Aggregated [MW]  \\\n",
       "MTU                                                                                    \n",
       "06.07.2023 00:00 - 06.07.2023 01:00 (CET/CEST)                                     0   \n",
       "06.07.2023 01:00 - 06.07.2023 02:00 (CET/CEST)                                     0   \n",
       "06.07.2023 02:00 - 06.07.2023 03:00 (CET/CEST)                                     0   \n",
       "06.07.2023 03:00 - 06.07.2023 04:00 (CET/CEST)                                     0   \n",
       "06.07.2023 04:00 - 06.07.2023 05:00 (CET/CEST)                                     0   \n",
       "\n",
       "                                               Fossil Oil shale  - Actual Aggregated [MW]  \\\n",
       "MTU                                                                                         \n",
       "06.07.2023 00:00 - 06.07.2023 01:00 (CET/CEST)                                        n/e   \n",
       "06.07.2023 01:00 - 06.07.2023 02:00 (CET/CEST)                                        n/e   \n",
       "06.07.2023 02:00 - 06.07.2023 03:00 (CET/CEST)                                        n/e   \n",
       "06.07.2023 03:00 - 06.07.2023 04:00 (CET/CEST)                                        n/e   \n",
       "06.07.2023 04:00 - 06.07.2023 05:00 (CET/CEST)                                        n/e   \n",
       "\n",
       "                                               Fossil Peat  - Actual Aggregated [MW]  \\\n",
       "MTU                                                                                    \n",
       "06.07.2023 00:00 - 06.07.2023 01:00 (CET/CEST)                                   n/e   \n",
       "06.07.2023 01:00 - 06.07.2023 02:00 (CET/CEST)                                   n/e   \n",
       "06.07.2023 02:00 - 06.07.2023 03:00 (CET/CEST)                                   n/e   \n",
       "06.07.2023 03:00 - 06.07.2023 04:00 (CET/CEST)                                   n/e   \n",
       "06.07.2023 04:00 - 06.07.2023 05:00 (CET/CEST)                                   n/e   \n",
       "\n",
       "                                               Geothermal  - Actual Aggregated [MW]  \\\n",
       "MTU                                                                                   \n",
       "06.07.2023 00:00 - 06.07.2023 01:00 (CET/CEST)                                  n/e   \n",
       "06.07.2023 01:00 - 06.07.2023 02:00 (CET/CEST)                                  n/e   \n",
       "06.07.2023 02:00 - 06.07.2023 03:00 (CET/CEST)                                  n/e   \n",
       "06.07.2023 03:00 - 06.07.2023 04:00 (CET/CEST)                                  n/e   \n",
       "06.07.2023 04:00 - 06.07.2023 05:00 (CET/CEST)                                  n/e   \n",
       "\n",
       "                                                ...  \\\n",
       "MTU                                             ...   \n",
       "06.07.2023 00:00 - 06.07.2023 01:00 (CET/CEST)  ...   \n",
       "06.07.2023 01:00 - 06.07.2023 02:00 (CET/CEST)  ...   \n",
       "06.07.2023 02:00 - 06.07.2023 03:00 (CET/CEST)  ...   \n",
       "06.07.2023 03:00 - 06.07.2023 04:00 (CET/CEST)  ...   \n",
       "06.07.2023 04:00 - 06.07.2023 05:00 (CET/CEST)  ...   \n",
       "\n",
       "                                                Hydro Run-of-river and poundage  - Actual Aggregated [MW]  \\\n",
       "MTU                                                                                                         \n",
       "06.07.2023 00:00 - 06.07.2023 01:00 (CET/CEST)                                                  0           \n",
       "06.07.2023 01:00 - 06.07.2023 02:00 (CET/CEST)                                                  0           \n",
       "06.07.2023 02:00 - 06.07.2023 03:00 (CET/CEST)                                                  0           \n",
       "06.07.2023 03:00 - 06.07.2023 04:00 (CET/CEST)                                                  0           \n",
       "06.07.2023 04:00 - 06.07.2023 05:00 (CET/CEST)                                                  0           \n",
       "\n",
       "                                                Hydro Water Reservoir  - Actual Aggregated [MW]  \\\n",
       "MTU                                                                                               \n",
       "06.07.2023 00:00 - 06.07.2023 01:00 (CET/CEST)                                              n/e   \n",
       "06.07.2023 01:00 - 06.07.2023 02:00 (CET/CEST)                                              n/e   \n",
       "06.07.2023 02:00 - 06.07.2023 03:00 (CET/CEST)                                              n/e   \n",
       "06.07.2023 03:00 - 06.07.2023 04:00 (CET/CEST)                                              n/e   \n",
       "06.07.2023 04:00 - 06.07.2023 05:00 (CET/CEST)                                              n/e   \n",
       "\n",
       "                                                Marine  - Actual Aggregated [MW]  \\\n",
       "MTU                                                                                \n",
       "06.07.2023 00:00 - 06.07.2023 01:00 (CET/CEST)                               n/e   \n",
       "06.07.2023 01:00 - 06.07.2023 02:00 (CET/CEST)                               n/e   \n",
       "06.07.2023 02:00 - 06.07.2023 03:00 (CET/CEST)                               n/e   \n",
       "06.07.2023 03:00 - 06.07.2023 04:00 (CET/CEST)                               n/e   \n",
       "06.07.2023 04:00 - 06.07.2023 05:00 (CET/CEST)                               n/e   \n",
       "\n",
       "                                               Nuclear  - Actual Aggregated [MW]  \\\n",
       "MTU                                                                                \n",
       "06.07.2023 00:00 - 06.07.2023 01:00 (CET/CEST)                              3516   \n",
       "06.07.2023 01:00 - 06.07.2023 02:00 (CET/CEST)                              3534   \n",
       "06.07.2023 02:00 - 06.07.2023 03:00 (CET/CEST)                              3552   \n",
       "06.07.2023 03:00 - 06.07.2023 04:00 (CET/CEST)                              3565   \n",
       "06.07.2023 04:00 - 06.07.2023 05:00 (CET/CEST)                              3577   \n",
       "\n",
       "                                               Other  - Actual Aggregated [MW]  \\\n",
       "MTU                                                                              \n",
       "06.07.2023 00:00 - 06.07.2023 01:00 (CET/CEST)                             NaN   \n",
       "06.07.2023 01:00 - 06.07.2023 02:00 (CET/CEST)                             NaN   \n",
       "06.07.2023 02:00 - 06.07.2023 03:00 (CET/CEST)                             NaN   \n",
       "06.07.2023 03:00 - 06.07.2023 04:00 (CET/CEST)                             NaN   \n",
       "06.07.2023 04:00 - 06.07.2023 05:00 (CET/CEST)                             NaN   \n",
       "\n",
       "                                                Other renewable  - Actual Aggregated [MW]  \\\n",
       "MTU                                                                                         \n",
       "06.07.2023 00:00 - 06.07.2023 01:00 (CET/CEST)                                        n/e   \n",
       "06.07.2023 01:00 - 06.07.2023 02:00 (CET/CEST)                                        n/e   \n",
       "06.07.2023 02:00 - 06.07.2023 03:00 (CET/CEST)                                        n/e   \n",
       "06.07.2023 03:00 - 06.07.2023 04:00 (CET/CEST)                                        n/e   \n",
       "06.07.2023 04:00 - 06.07.2023 05:00 (CET/CEST)                                        n/e   \n",
       "\n",
       "                                                Solar  - Actual Aggregated [MW]  \\\n",
       "MTU                                                                               \n",
       "06.07.2023 00:00 - 06.07.2023 01:00 (CET/CEST)                                0   \n",
       "06.07.2023 01:00 - 06.07.2023 02:00 (CET/CEST)                                0   \n",
       "06.07.2023 02:00 - 06.07.2023 03:00 (CET/CEST)                                0   \n",
       "06.07.2023 03:00 - 06.07.2023 04:00 (CET/CEST)                                0   \n",
       "06.07.2023 04:00 - 06.07.2023 05:00 (CET/CEST)                                0   \n",
       "\n",
       "                                               Waste  - Actual Aggregated [MW]  \\\n",
       "MTU                                                                              \n",
       "06.07.2023 00:00 - 06.07.2023 01:00 (CET/CEST)                             141   \n",
       "06.07.2023 01:00 - 06.07.2023 02:00 (CET/CEST)                             141   \n",
       "06.07.2023 02:00 - 06.07.2023 03:00 (CET/CEST)                             141   \n",
       "06.07.2023 03:00 - 06.07.2023 04:00 (CET/CEST)                             140   \n",
       "06.07.2023 04:00 - 06.07.2023 05:00 (CET/CEST)                             142   \n",
       "\n",
       "                                                Wind Offshore  - Actual Aggregated [MW]  \\\n",
       "MTU                                                                                       \n",
       "06.07.2023 00:00 - 06.07.2023 01:00 (CET/CEST)                                      829   \n",
       "06.07.2023 01:00 - 06.07.2023 02:00 (CET/CEST)                                      575   \n",
       "06.07.2023 02:00 - 06.07.2023 03:00 (CET/CEST)                                      642   \n",
       "06.07.2023 03:00 - 06.07.2023 04:00 (CET/CEST)                                      494   \n",
       "06.07.2023 04:00 - 06.07.2023 05:00 (CET/CEST)                                      421   \n",
       "\n",
       "                                                Wind Onshore  - Actual Aggregated [MW]  \n",
       "MTU                                                                                     \n",
       "06.07.2023 00:00 - 06.07.2023 01:00 (CET/CEST)                                     726  \n",
       "06.07.2023 01:00 - 06.07.2023 02:00 (CET/CEST)                                     727  \n",
       "06.07.2023 02:00 - 06.07.2023 03:00 (CET/CEST)                                     714  \n",
       "06.07.2023 03:00 - 06.07.2023 04:00 (CET/CEST)                                     673  \n",
       "06.07.2023 04:00 - 06.07.2023 05:00 (CET/CEST)                                     606  \n",
       "\n",
       "[5 rows x 22 columns]"
      ]
     },
     "execution_count": 2,
     "metadata": {},
     "output_type": "execute_result"
    }
   ],
   "source": [
    "df=pd.read_csv('Actual Generation per Production Type_202307060000-202307070000.csv',index_col=\"MTU\",parse_dates=True)\n",
    "df.head()"
   ]
  },
  {
   "cell_type": "code",
   "execution_count": 4,
   "metadata": {},
   "outputs": [
    {
     "name": "stdout",
     "output_type": "stream",
     "text": [
      "<class 'pandas.core.frame.DataFrame'>\n",
      "Index: 24 entries, 06.07.2023 00:00 - 06.07.2023 01:00 (CET/CEST) to 06.07.2023 23:00 - 07.07.2023 00:00 (CET/CEST)\n",
      "Data columns (total 22 columns):\n",
      " #   Column                                                     Non-Null Count  Dtype  \n",
      "---  ------                                                     --------------  -----  \n",
      " 0   Area                                                       24 non-null     object \n",
      " 1   Biomass  - Actual Aggregated [MW]                          24 non-null     int64  \n",
      " 2   Fossil Brown coal/Lignite  - Actual Aggregated [MW]        24 non-null     object \n",
      " 3   Fossil Coal-derived gas  - Actual Aggregated [MW]          24 non-null     object \n",
      " 4   Fossil Gas  - Actual Aggregated [MW]                       24 non-null     int64  \n",
      " 5   Fossil Hard coal  - Actual Aggregated [MW]                 24 non-null     object \n",
      " 6   Fossil Oil  - Actual Aggregated [MW]                       24 non-null     int64  \n",
      " 7   Fossil Oil shale  - Actual Aggregated [MW]                 24 non-null     object \n",
      " 8   Fossil Peat  - Actual Aggregated [MW]                      24 non-null     object \n",
      " 9   Geothermal  - Actual Aggregated [MW]                       24 non-null     object \n",
      " 10  Hydro Pumped Storage  - Actual Aggregated [MW]             15 non-null     float64\n",
      " 11  Hydro Pumped Storage  - Actual Consumption [MW]            16 non-null     float64\n",
      " 12  Hydro Run-of-river and poundage  - Actual Aggregated [MW]  24 non-null     int64  \n",
      " 13  Hydro Water Reservoir  - Actual Aggregated [MW]            24 non-null     object \n",
      " 14  Marine  - Actual Aggregated [MW]                           24 non-null     object \n",
      " 15  Nuclear  - Actual Aggregated [MW]                          24 non-null     int64  \n",
      " 16  Other  - Actual Aggregated [MW]                            0 non-null      float64\n",
      " 17  Other renewable  - Actual Aggregated [MW]                  24 non-null     object \n",
      " 18  Solar  - Actual Aggregated [MW]                            24 non-null     int64  \n",
      " 19  Waste  - Actual Aggregated [MW]                            24 non-null     int64  \n",
      " 20  Wind Offshore  - Actual Aggregated [MW]                    24 non-null     int64  \n",
      " 21  Wind Onshore  - Actual Aggregated [MW]                     24 non-null     int64  \n",
      "dtypes: float64(3), int64(9), object(10)\n",
      "memory usage: 4.3+ KB\n"
     ]
    }
   ],
   "source": [
    "df.info()"
   ]
  },
  {
   "cell_type": "code",
   "execution_count": 8,
   "metadata": {},
   "outputs": [
    {
     "data": {
      "text/html": [
       "<div>\n",
       "<style scoped>\n",
       "    .dataframe tbody tr th:only-of-type {\n",
       "        vertical-align: middle;\n",
       "    }\n",
       "\n",
       "    .dataframe tbody tr th {\n",
       "        vertical-align: top;\n",
       "    }\n",
       "\n",
       "    .dataframe thead th {\n",
       "        text-align: right;\n",
       "    }\n",
       "</style>\n",
       "<table border=\"1\" class=\"dataframe\">\n",
       "  <thead>\n",
       "    <tr style=\"text-align: right;\">\n",
       "      <th></th>\n",
       "      <th>Solar  - Actual Aggregated [MW]</th>\n",
       "      <th>Wind Offshore  - Actual Aggregated [MW]</th>\n",
       "      <th>Wind Onshore  - Actual Aggregated [MW]</th>\n",
       "    </tr>\n",
       "    <tr>\n",
       "      <th>MTU</th>\n",
       "      <th></th>\n",
       "      <th></th>\n",
       "      <th></th>\n",
       "    </tr>\n",
       "  </thead>\n",
       "  <tbody>\n",
       "    <tr>\n",
       "      <th>06.07.2023 00:00 - 06.07.2023 01:00 (CET/CEST)</th>\n",
       "      <td>0</td>\n",
       "      <td>829</td>\n",
       "      <td>726</td>\n",
       "    </tr>\n",
       "    <tr>\n",
       "      <th>06.07.2023 01:00 - 06.07.2023 02:00 (CET/CEST)</th>\n",
       "      <td>0</td>\n",
       "      <td>575</td>\n",
       "      <td>727</td>\n",
       "    </tr>\n",
       "    <tr>\n",
       "      <th>06.07.2023 02:00 - 06.07.2023 03:00 (CET/CEST)</th>\n",
       "      <td>0</td>\n",
       "      <td>642</td>\n",
       "      <td>714</td>\n",
       "    </tr>\n",
       "    <tr>\n",
       "      <th>06.07.2023 03:00 - 06.07.2023 04:00 (CET/CEST)</th>\n",
       "      <td>0</td>\n",
       "      <td>494</td>\n",
       "      <td>673</td>\n",
       "    </tr>\n",
       "    <tr>\n",
       "      <th>06.07.2023 04:00 - 06.07.2023 05:00 (CET/CEST)</th>\n",
       "      <td>0</td>\n",
       "      <td>421</td>\n",
       "      <td>606</td>\n",
       "    </tr>\n",
       "    <tr>\n",
       "      <th>06.07.2023 05:00 - 06.07.2023 06:00 (CET/CEST)</th>\n",
       "      <td>4</td>\n",
       "      <td>389</td>\n",
       "      <td>600</td>\n",
       "    </tr>\n",
       "    <tr>\n",
       "      <th>06.07.2023 06:00 - 06.07.2023 07:00 (CET/CEST)</th>\n",
       "      <td>233</td>\n",
       "      <td>327</td>\n",
       "      <td>504</td>\n",
       "    </tr>\n",
       "    <tr>\n",
       "      <th>06.07.2023 07:00 - 06.07.2023 08:00 (CET/CEST)</th>\n",
       "      <td>851</td>\n",
       "      <td>421</td>\n",
       "      <td>321</td>\n",
       "    </tr>\n",
       "    <tr>\n",
       "      <th>06.07.2023 08:00 - 06.07.2023 09:00 (CET/CEST)</th>\n",
       "      <td>1745</td>\n",
       "      <td>329</td>\n",
       "      <td>182</td>\n",
       "    </tr>\n",
       "    <tr>\n",
       "      <th>06.07.2023 09:00 - 06.07.2023 10:00 (CET/CEST)</th>\n",
       "      <td>2765</td>\n",
       "      <td>269</td>\n",
       "      <td>170</td>\n",
       "    </tr>\n",
       "    <tr>\n",
       "      <th>06.07.2023 10:00 - 06.07.2023 11:00 (CET/CEST)</th>\n",
       "      <td>3451</td>\n",
       "      <td>205</td>\n",
       "      <td>199</td>\n",
       "    </tr>\n",
       "    <tr>\n",
       "      <th>06.07.2023 11:00 - 06.07.2023 12:00 (CET/CEST)</th>\n",
       "      <td>3519</td>\n",
       "      <td>240</td>\n",
       "      <td>207</td>\n",
       "    </tr>\n",
       "    <tr>\n",
       "      <th>06.07.2023 12:00 - 06.07.2023 13:00 (CET/CEST)</th>\n",
       "      <td>3439</td>\n",
       "      <td>233</td>\n",
       "      <td>181</td>\n",
       "    </tr>\n",
       "    <tr>\n",
       "      <th>06.07.2023 13:00 - 06.07.2023 14:00 (CET/CEST)</th>\n",
       "      <td>3633</td>\n",
       "      <td>210</td>\n",
       "      <td>166</td>\n",
       "    </tr>\n",
       "    <tr>\n",
       "      <th>06.07.2023 14:00 - 06.07.2023 15:00 (CET/CEST)</th>\n",
       "      <td>3738</td>\n",
       "      <td>97</td>\n",
       "      <td>153</td>\n",
       "    </tr>\n",
       "    <tr>\n",
       "      <th>06.07.2023 15:00 - 06.07.2023 16:00 (CET/CEST)</th>\n",
       "      <td>3775</td>\n",
       "      <td>57</td>\n",
       "      <td>123</td>\n",
       "    </tr>\n",
       "    <tr>\n",
       "      <th>06.07.2023 16:00 - 06.07.2023 17:00 (CET/CEST)</th>\n",
       "      <td>3511</td>\n",
       "      <td>23</td>\n",
       "      <td>90</td>\n",
       "    </tr>\n",
       "    <tr>\n",
       "      <th>06.07.2023 17:00 - 06.07.2023 18:00 (CET/CEST)</th>\n",
       "      <td>2918</td>\n",
       "      <td>23</td>\n",
       "      <td>75</td>\n",
       "    </tr>\n",
       "    <tr>\n",
       "      <th>06.07.2023 18:00 - 06.07.2023 19:00 (CET/CEST)</th>\n",
       "      <td>2090</td>\n",
       "      <td>11</td>\n",
       "      <td>65</td>\n",
       "    </tr>\n",
       "    <tr>\n",
       "      <th>06.07.2023 19:00 - 06.07.2023 20:00 (CET/CEST)</th>\n",
       "      <td>1276</td>\n",
       "      <td>2</td>\n",
       "      <td>48</td>\n",
       "    </tr>\n",
       "    <tr>\n",
       "      <th>06.07.2023 20:00 - 06.07.2023 21:00 (CET/CEST)</th>\n",
       "      <td>542</td>\n",
       "      <td>2</td>\n",
       "      <td>40</td>\n",
       "    </tr>\n",
       "    <tr>\n",
       "      <th>06.07.2023 21:00 - 06.07.2023 22:00 (CET/CEST)</th>\n",
       "      <td>65</td>\n",
       "      <td>6</td>\n",
       "      <td>56</td>\n",
       "    </tr>\n",
       "    <tr>\n",
       "      <th>06.07.2023 22:00 - 06.07.2023 23:00 (CET/CEST)</th>\n",
       "      <td>0</td>\n",
       "      <td>6</td>\n",
       "      <td>76</td>\n",
       "    </tr>\n",
       "    <tr>\n",
       "      <th>06.07.2023 23:00 - 07.07.2023 00:00 (CET/CEST)</th>\n",
       "      <td>0</td>\n",
       "      <td>14</td>\n",
       "      <td>102</td>\n",
       "    </tr>\n",
       "  </tbody>\n",
       "</table>\n",
       "</div>"
      ],
      "text/plain": [
       "                                                Solar  - Actual Aggregated [MW]  \\\n",
       "MTU                                                                               \n",
       "06.07.2023 00:00 - 06.07.2023 01:00 (CET/CEST)                                0   \n",
       "06.07.2023 01:00 - 06.07.2023 02:00 (CET/CEST)                                0   \n",
       "06.07.2023 02:00 - 06.07.2023 03:00 (CET/CEST)                                0   \n",
       "06.07.2023 03:00 - 06.07.2023 04:00 (CET/CEST)                                0   \n",
       "06.07.2023 04:00 - 06.07.2023 05:00 (CET/CEST)                                0   \n",
       "06.07.2023 05:00 - 06.07.2023 06:00 (CET/CEST)                                4   \n",
       "06.07.2023 06:00 - 06.07.2023 07:00 (CET/CEST)                              233   \n",
       "06.07.2023 07:00 - 06.07.2023 08:00 (CET/CEST)                              851   \n",
       "06.07.2023 08:00 - 06.07.2023 09:00 (CET/CEST)                             1745   \n",
       "06.07.2023 09:00 - 06.07.2023 10:00 (CET/CEST)                             2765   \n",
       "06.07.2023 10:00 - 06.07.2023 11:00 (CET/CEST)                             3451   \n",
       "06.07.2023 11:00 - 06.07.2023 12:00 (CET/CEST)                             3519   \n",
       "06.07.2023 12:00 - 06.07.2023 13:00 (CET/CEST)                             3439   \n",
       "06.07.2023 13:00 - 06.07.2023 14:00 (CET/CEST)                             3633   \n",
       "06.07.2023 14:00 - 06.07.2023 15:00 (CET/CEST)                             3738   \n",
       "06.07.2023 15:00 - 06.07.2023 16:00 (CET/CEST)                             3775   \n",
       "06.07.2023 16:00 - 06.07.2023 17:00 (CET/CEST)                             3511   \n",
       "06.07.2023 17:00 - 06.07.2023 18:00 (CET/CEST)                             2918   \n",
       "06.07.2023 18:00 - 06.07.2023 19:00 (CET/CEST)                             2090   \n",
       "06.07.2023 19:00 - 06.07.2023 20:00 (CET/CEST)                             1276   \n",
       "06.07.2023 20:00 - 06.07.2023 21:00 (CET/CEST)                              542   \n",
       "06.07.2023 21:00 - 06.07.2023 22:00 (CET/CEST)                               65   \n",
       "06.07.2023 22:00 - 06.07.2023 23:00 (CET/CEST)                                0   \n",
       "06.07.2023 23:00 - 07.07.2023 00:00 (CET/CEST)                                0   \n",
       "\n",
       "                                                Wind Offshore  - Actual Aggregated [MW]  \\\n",
       "MTU                                                                                       \n",
       "06.07.2023 00:00 - 06.07.2023 01:00 (CET/CEST)                                      829   \n",
       "06.07.2023 01:00 - 06.07.2023 02:00 (CET/CEST)                                      575   \n",
       "06.07.2023 02:00 - 06.07.2023 03:00 (CET/CEST)                                      642   \n",
       "06.07.2023 03:00 - 06.07.2023 04:00 (CET/CEST)                                      494   \n",
       "06.07.2023 04:00 - 06.07.2023 05:00 (CET/CEST)                                      421   \n",
       "06.07.2023 05:00 - 06.07.2023 06:00 (CET/CEST)                                      389   \n",
       "06.07.2023 06:00 - 06.07.2023 07:00 (CET/CEST)                                      327   \n",
       "06.07.2023 07:00 - 06.07.2023 08:00 (CET/CEST)                                      421   \n",
       "06.07.2023 08:00 - 06.07.2023 09:00 (CET/CEST)                                      329   \n",
       "06.07.2023 09:00 - 06.07.2023 10:00 (CET/CEST)                                      269   \n",
       "06.07.2023 10:00 - 06.07.2023 11:00 (CET/CEST)                                      205   \n",
       "06.07.2023 11:00 - 06.07.2023 12:00 (CET/CEST)                                      240   \n",
       "06.07.2023 12:00 - 06.07.2023 13:00 (CET/CEST)                                      233   \n",
       "06.07.2023 13:00 - 06.07.2023 14:00 (CET/CEST)                                      210   \n",
       "06.07.2023 14:00 - 06.07.2023 15:00 (CET/CEST)                                       97   \n",
       "06.07.2023 15:00 - 06.07.2023 16:00 (CET/CEST)                                       57   \n",
       "06.07.2023 16:00 - 06.07.2023 17:00 (CET/CEST)                                       23   \n",
       "06.07.2023 17:00 - 06.07.2023 18:00 (CET/CEST)                                       23   \n",
       "06.07.2023 18:00 - 06.07.2023 19:00 (CET/CEST)                                       11   \n",
       "06.07.2023 19:00 - 06.07.2023 20:00 (CET/CEST)                                        2   \n",
       "06.07.2023 20:00 - 06.07.2023 21:00 (CET/CEST)                                        2   \n",
       "06.07.2023 21:00 - 06.07.2023 22:00 (CET/CEST)                                        6   \n",
       "06.07.2023 22:00 - 06.07.2023 23:00 (CET/CEST)                                        6   \n",
       "06.07.2023 23:00 - 07.07.2023 00:00 (CET/CEST)                                       14   \n",
       "\n",
       "                                                Wind Onshore  - Actual Aggregated [MW]  \n",
       "MTU                                                                                     \n",
       "06.07.2023 00:00 - 06.07.2023 01:00 (CET/CEST)                                     726  \n",
       "06.07.2023 01:00 - 06.07.2023 02:00 (CET/CEST)                                     727  \n",
       "06.07.2023 02:00 - 06.07.2023 03:00 (CET/CEST)                                     714  \n",
       "06.07.2023 03:00 - 06.07.2023 04:00 (CET/CEST)                                     673  \n",
       "06.07.2023 04:00 - 06.07.2023 05:00 (CET/CEST)                                     606  \n",
       "06.07.2023 05:00 - 06.07.2023 06:00 (CET/CEST)                                     600  \n",
       "06.07.2023 06:00 - 06.07.2023 07:00 (CET/CEST)                                     504  \n",
       "06.07.2023 07:00 - 06.07.2023 08:00 (CET/CEST)                                     321  \n",
       "06.07.2023 08:00 - 06.07.2023 09:00 (CET/CEST)                                     182  \n",
       "06.07.2023 09:00 - 06.07.2023 10:00 (CET/CEST)                                     170  \n",
       "06.07.2023 10:00 - 06.07.2023 11:00 (CET/CEST)                                     199  \n",
       "06.07.2023 11:00 - 06.07.2023 12:00 (CET/CEST)                                     207  \n",
       "06.07.2023 12:00 - 06.07.2023 13:00 (CET/CEST)                                     181  \n",
       "06.07.2023 13:00 - 06.07.2023 14:00 (CET/CEST)                                     166  \n",
       "06.07.2023 14:00 - 06.07.2023 15:00 (CET/CEST)                                     153  \n",
       "06.07.2023 15:00 - 06.07.2023 16:00 (CET/CEST)                                     123  \n",
       "06.07.2023 16:00 - 06.07.2023 17:00 (CET/CEST)                                      90  \n",
       "06.07.2023 17:00 - 06.07.2023 18:00 (CET/CEST)                                      75  \n",
       "06.07.2023 18:00 - 06.07.2023 19:00 (CET/CEST)                                      65  \n",
       "06.07.2023 19:00 - 06.07.2023 20:00 (CET/CEST)                                      48  \n",
       "06.07.2023 20:00 - 06.07.2023 21:00 (CET/CEST)                                      40  \n",
       "06.07.2023 21:00 - 06.07.2023 22:00 (CET/CEST)                                      56  \n",
       "06.07.2023 22:00 - 06.07.2023 23:00 (CET/CEST)                                      76  \n",
       "06.07.2023 23:00 - 07.07.2023 00:00 (CET/CEST)                                     102  "
      ]
     },
     "execution_count": 8,
     "metadata": {},
     "output_type": "execute_result"
    }
   ],
   "source": [
    "\n",
    "columns_to_keep = [\"Solar  - Actual Aggregated [MW]\", \"Wind Offshore  - Actual Aggregated [MW]\", \"Wind Onshore  - Actual Aggregated [MW]\"]\n",
    "df = df[columns_to_keep]\n",
    "df\n"
   ]
  },
  {
   "cell_type": "code",
   "execution_count": 20,
   "metadata": {},
   "outputs": [
    {
     "data": {
      "application/vnd.plotly.v1+json": {
       "config": {
        "plotlyServerURL": "https://plot.ly"
       },
       "data": [
        {
         "hovertemplate": "Solar  - Actual Aggregated [MW]=%{x}<br>Wind Offshore  - Actual Aggregated [MW]=%{y}<br>Wind Onshore  - Actual Aggregated [MW]=%{marker.color}<extra></extra>",
         "legendgroup": "",
         "marker": {
          "color": [
           726,
           727,
           714,
           673,
           606,
           600,
           504,
           321,
           182,
           170,
           199,
           207,
           181,
           166,
           153,
           123,
           90,
           75,
           65,
           48,
           40,
           56,
           76,
           102
          ],
          "coloraxis": "coloraxis",
          "size": 8,
          "symbol": "circle"
         },
         "mode": "markers",
         "name": "",
         "orientation": "v",
         "showlegend": false,
         "type": "scatter",
         "x": [
          0,
          0,
          0,
          0,
          0,
          4,
          233,
          851,
          1745,
          2765,
          3451,
          3519,
          3439,
          3633,
          3738,
          3775,
          3511,
          2918,
          2090,
          1276,
          542,
          65,
          0,
          0
         ],
         "xaxis": "x",
         "y": [
          829,
          575,
          642,
          494,
          421,
          389,
          327,
          421,
          329,
          269,
          205,
          240,
          233,
          210,
          97,
          57,
          23,
          23,
          11,
          2,
          2,
          6,
          6,
          14
         ],
         "yaxis": "y"
        }
       ],
       "layout": {
        "coloraxis": {
         "colorbar": {
          "title": {
           "text": "Wind Onshore  - Actual Aggregated [MW]"
          }
         },
         "colorscale": [
          [
           0,
           "#0d0887"
          ],
          [
           0.1111111111111111,
           "#46039f"
          ],
          [
           0.2222222222222222,
           "#7201a8"
          ],
          [
           0.3333333333333333,
           "#9c179e"
          ],
          [
           0.4444444444444444,
           "#bd3786"
          ],
          [
           0.5555555555555556,
           "#d8576b"
          ],
          [
           0.6666666666666666,
           "#ed7953"
          ],
          [
           0.7777777777777778,
           "#fb9f3a"
          ],
          [
           0.8888888888888888,
           "#fdca26"
          ],
          [
           1,
           "#f0f921"
          ]
         ]
        },
        "legend": {
         "tracegroupgap": 0
        },
        "margin": {
         "t": 60
        },
        "template": {
         "data": {
          "bar": [
           {
            "error_x": {
             "color": "#2a3f5f"
            },
            "error_y": {
             "color": "#2a3f5f"
            },
            "marker": {
             "line": {
              "color": "#E5ECF6",
              "width": 0.5
             },
             "pattern": {
              "fillmode": "overlay",
              "size": 10,
              "solidity": 0.2
             }
            },
            "type": "bar"
           }
          ],
          "barpolar": [
           {
            "marker": {
             "line": {
              "color": "#E5ECF6",
              "width": 0.5
             },
             "pattern": {
              "fillmode": "overlay",
              "size": 10,
              "solidity": 0.2
             }
            },
            "type": "barpolar"
           }
          ],
          "carpet": [
           {
            "aaxis": {
             "endlinecolor": "#2a3f5f",
             "gridcolor": "white",
             "linecolor": "white",
             "minorgridcolor": "white",
             "startlinecolor": "#2a3f5f"
            },
            "baxis": {
             "endlinecolor": "#2a3f5f",
             "gridcolor": "white",
             "linecolor": "white",
             "minorgridcolor": "white",
             "startlinecolor": "#2a3f5f"
            },
            "type": "carpet"
           }
          ],
          "choropleth": [
           {
            "colorbar": {
             "outlinewidth": 0,
             "ticks": ""
            },
            "type": "choropleth"
           }
          ],
          "contour": [
           {
            "colorbar": {
             "outlinewidth": 0,
             "ticks": ""
            },
            "colorscale": [
             [
              0,
              "#0d0887"
             ],
             [
              0.1111111111111111,
              "#46039f"
             ],
             [
              0.2222222222222222,
              "#7201a8"
             ],
             [
              0.3333333333333333,
              "#9c179e"
             ],
             [
              0.4444444444444444,
              "#bd3786"
             ],
             [
              0.5555555555555556,
              "#d8576b"
             ],
             [
              0.6666666666666666,
              "#ed7953"
             ],
             [
              0.7777777777777778,
              "#fb9f3a"
             ],
             [
              0.8888888888888888,
              "#fdca26"
             ],
             [
              1,
              "#f0f921"
             ]
            ],
            "type": "contour"
           }
          ],
          "contourcarpet": [
           {
            "colorbar": {
             "outlinewidth": 0,
             "ticks": ""
            },
            "type": "contourcarpet"
           }
          ],
          "heatmap": [
           {
            "colorbar": {
             "outlinewidth": 0,
             "ticks": ""
            },
            "colorscale": [
             [
              0,
              "#0d0887"
             ],
             [
              0.1111111111111111,
              "#46039f"
             ],
             [
              0.2222222222222222,
              "#7201a8"
             ],
             [
              0.3333333333333333,
              "#9c179e"
             ],
             [
              0.4444444444444444,
              "#bd3786"
             ],
             [
              0.5555555555555556,
              "#d8576b"
             ],
             [
              0.6666666666666666,
              "#ed7953"
             ],
             [
              0.7777777777777778,
              "#fb9f3a"
             ],
             [
              0.8888888888888888,
              "#fdca26"
             ],
             [
              1,
              "#f0f921"
             ]
            ],
            "type": "heatmap"
           }
          ],
          "heatmapgl": [
           {
            "colorbar": {
             "outlinewidth": 0,
             "ticks": ""
            },
            "colorscale": [
             [
              0,
              "#0d0887"
             ],
             [
              0.1111111111111111,
              "#46039f"
             ],
             [
              0.2222222222222222,
              "#7201a8"
             ],
             [
              0.3333333333333333,
              "#9c179e"
             ],
             [
              0.4444444444444444,
              "#bd3786"
             ],
             [
              0.5555555555555556,
              "#d8576b"
             ],
             [
              0.6666666666666666,
              "#ed7953"
             ],
             [
              0.7777777777777778,
              "#fb9f3a"
             ],
             [
              0.8888888888888888,
              "#fdca26"
             ],
             [
              1,
              "#f0f921"
             ]
            ],
            "type": "heatmapgl"
           }
          ],
          "histogram": [
           {
            "marker": {
             "pattern": {
              "fillmode": "overlay",
              "size": 10,
              "solidity": 0.2
             }
            },
            "type": "histogram"
           }
          ],
          "histogram2d": [
           {
            "colorbar": {
             "outlinewidth": 0,
             "ticks": ""
            },
            "colorscale": [
             [
              0,
              "#0d0887"
             ],
             [
              0.1111111111111111,
              "#46039f"
             ],
             [
              0.2222222222222222,
              "#7201a8"
             ],
             [
              0.3333333333333333,
              "#9c179e"
             ],
             [
              0.4444444444444444,
              "#bd3786"
             ],
             [
              0.5555555555555556,
              "#d8576b"
             ],
             [
              0.6666666666666666,
              "#ed7953"
             ],
             [
              0.7777777777777778,
              "#fb9f3a"
             ],
             [
              0.8888888888888888,
              "#fdca26"
             ],
             [
              1,
              "#f0f921"
             ]
            ],
            "type": "histogram2d"
           }
          ],
          "histogram2dcontour": [
           {
            "colorbar": {
             "outlinewidth": 0,
             "ticks": ""
            },
            "colorscale": [
             [
              0,
              "#0d0887"
             ],
             [
              0.1111111111111111,
              "#46039f"
             ],
             [
              0.2222222222222222,
              "#7201a8"
             ],
             [
              0.3333333333333333,
              "#9c179e"
             ],
             [
              0.4444444444444444,
              "#bd3786"
             ],
             [
              0.5555555555555556,
              "#d8576b"
             ],
             [
              0.6666666666666666,
              "#ed7953"
             ],
             [
              0.7777777777777778,
              "#fb9f3a"
             ],
             [
              0.8888888888888888,
              "#fdca26"
             ],
             [
              1,
              "#f0f921"
             ]
            ],
            "type": "histogram2dcontour"
           }
          ],
          "mesh3d": [
           {
            "colorbar": {
             "outlinewidth": 0,
             "ticks": ""
            },
            "type": "mesh3d"
           }
          ],
          "parcoords": [
           {
            "line": {
             "colorbar": {
              "outlinewidth": 0,
              "ticks": ""
             }
            },
            "type": "parcoords"
           }
          ],
          "pie": [
           {
            "automargin": true,
            "type": "pie"
           }
          ],
          "scatter": [
           {
            "fillpattern": {
             "fillmode": "overlay",
             "size": 10,
             "solidity": 0.2
            },
            "type": "scatter"
           }
          ],
          "scatter3d": [
           {
            "line": {
             "colorbar": {
              "outlinewidth": 0,
              "ticks": ""
             }
            },
            "marker": {
             "colorbar": {
              "outlinewidth": 0,
              "ticks": ""
             }
            },
            "type": "scatter3d"
           }
          ],
          "scattercarpet": [
           {
            "marker": {
             "colorbar": {
              "outlinewidth": 0,
              "ticks": ""
             }
            },
            "type": "scattercarpet"
           }
          ],
          "scattergeo": [
           {
            "marker": {
             "colorbar": {
              "outlinewidth": 0,
              "ticks": ""
             }
            },
            "type": "scattergeo"
           }
          ],
          "scattergl": [
           {
            "marker": {
             "colorbar": {
              "outlinewidth": 0,
              "ticks": ""
             }
            },
            "type": "scattergl"
           }
          ],
          "scattermapbox": [
           {
            "marker": {
             "colorbar": {
              "outlinewidth": 0,
              "ticks": ""
             }
            },
            "type": "scattermapbox"
           }
          ],
          "scatterpolar": [
           {
            "marker": {
             "colorbar": {
              "outlinewidth": 0,
              "ticks": ""
             }
            },
            "type": "scatterpolar"
           }
          ],
          "scatterpolargl": [
           {
            "marker": {
             "colorbar": {
              "outlinewidth": 0,
              "ticks": ""
             }
            },
            "type": "scatterpolargl"
           }
          ],
          "scatterternary": [
           {
            "marker": {
             "colorbar": {
              "outlinewidth": 0,
              "ticks": ""
             }
            },
            "type": "scatterternary"
           }
          ],
          "surface": [
           {
            "colorbar": {
             "outlinewidth": 0,
             "ticks": ""
            },
            "colorscale": [
             [
              0,
              "#0d0887"
             ],
             [
              0.1111111111111111,
              "#46039f"
             ],
             [
              0.2222222222222222,
              "#7201a8"
             ],
             [
              0.3333333333333333,
              "#9c179e"
             ],
             [
              0.4444444444444444,
              "#bd3786"
             ],
             [
              0.5555555555555556,
              "#d8576b"
             ],
             [
              0.6666666666666666,
              "#ed7953"
             ],
             [
              0.7777777777777778,
              "#fb9f3a"
             ],
             [
              0.8888888888888888,
              "#fdca26"
             ],
             [
              1,
              "#f0f921"
             ]
            ],
            "type": "surface"
           }
          ],
          "table": [
           {
            "cells": {
             "fill": {
              "color": "#EBF0F8"
             },
             "line": {
              "color": "white"
             }
            },
            "header": {
             "fill": {
              "color": "#C8D4E3"
             },
             "line": {
              "color": "white"
             }
            },
            "type": "table"
           }
          ]
         },
         "layout": {
          "annotationdefaults": {
           "arrowcolor": "#2a3f5f",
           "arrowhead": 0,
           "arrowwidth": 1
          },
          "autotypenumbers": "strict",
          "coloraxis": {
           "colorbar": {
            "outlinewidth": 0,
            "ticks": ""
           }
          },
          "colorscale": {
           "diverging": [
            [
             0,
             "#8e0152"
            ],
            [
             0.1,
             "#c51b7d"
            ],
            [
             0.2,
             "#de77ae"
            ],
            [
             0.3,
             "#f1b6da"
            ],
            [
             0.4,
             "#fde0ef"
            ],
            [
             0.5,
             "#f7f7f7"
            ],
            [
             0.6,
             "#e6f5d0"
            ],
            [
             0.7,
             "#b8e186"
            ],
            [
             0.8,
             "#7fbc41"
            ],
            [
             0.9,
             "#4d9221"
            ],
            [
             1,
             "#276419"
            ]
           ],
           "sequential": [
            [
             0,
             "#0d0887"
            ],
            [
             0.1111111111111111,
             "#46039f"
            ],
            [
             0.2222222222222222,
             "#7201a8"
            ],
            [
             0.3333333333333333,
             "#9c179e"
            ],
            [
             0.4444444444444444,
             "#bd3786"
            ],
            [
             0.5555555555555556,
             "#d8576b"
            ],
            [
             0.6666666666666666,
             "#ed7953"
            ],
            [
             0.7777777777777778,
             "#fb9f3a"
            ],
            [
             0.8888888888888888,
             "#fdca26"
            ],
            [
             1,
             "#f0f921"
            ]
           ],
           "sequentialminus": [
            [
             0,
             "#0d0887"
            ],
            [
             0.1111111111111111,
             "#46039f"
            ],
            [
             0.2222222222222222,
             "#7201a8"
            ],
            [
             0.3333333333333333,
             "#9c179e"
            ],
            [
             0.4444444444444444,
             "#bd3786"
            ],
            [
             0.5555555555555556,
             "#d8576b"
            ],
            [
             0.6666666666666666,
             "#ed7953"
            ],
            [
             0.7777777777777778,
             "#fb9f3a"
            ],
            [
             0.8888888888888888,
             "#fdca26"
            ],
            [
             1,
             "#f0f921"
            ]
           ]
          },
          "colorway": [
           "#636efa",
           "#EF553B",
           "#00cc96",
           "#ab63fa",
           "#FFA15A",
           "#19d3f3",
           "#FF6692",
           "#B6E880",
           "#FF97FF",
           "#FECB52"
          ],
          "font": {
           "color": "#2a3f5f"
          },
          "geo": {
           "bgcolor": "white",
           "lakecolor": "white",
           "landcolor": "#E5ECF6",
           "showlakes": true,
           "showland": true,
           "subunitcolor": "white"
          },
          "hoverlabel": {
           "align": "left"
          },
          "hovermode": "closest",
          "mapbox": {
           "style": "light"
          },
          "paper_bgcolor": "white",
          "plot_bgcolor": "#E5ECF6",
          "polar": {
           "angularaxis": {
            "gridcolor": "white",
            "linecolor": "white",
            "ticks": ""
           },
           "bgcolor": "#E5ECF6",
           "radialaxis": {
            "gridcolor": "white",
            "linecolor": "white",
            "ticks": ""
           }
          },
          "scene": {
           "xaxis": {
            "backgroundcolor": "#E5ECF6",
            "gridcolor": "white",
            "gridwidth": 2,
            "linecolor": "white",
            "showbackground": true,
            "ticks": "",
            "zerolinecolor": "white"
           },
           "yaxis": {
            "backgroundcolor": "#E5ECF6",
            "gridcolor": "white",
            "gridwidth": 2,
            "linecolor": "white",
            "showbackground": true,
            "ticks": "",
            "zerolinecolor": "white"
           },
           "zaxis": {
            "backgroundcolor": "#E5ECF6",
            "gridcolor": "white",
            "gridwidth": 2,
            "linecolor": "white",
            "showbackground": true,
            "ticks": "",
            "zerolinecolor": "white"
           }
          },
          "shapedefaults": {
           "line": {
            "color": "#2a3f5f"
           }
          },
          "ternary": {
           "aaxis": {
            "gridcolor": "white",
            "linecolor": "white",
            "ticks": ""
           },
           "baxis": {
            "gridcolor": "white",
            "linecolor": "white",
            "ticks": ""
           },
           "bgcolor": "#E5ECF6",
           "caxis": {
            "gridcolor": "white",
            "linecolor": "white",
            "ticks": ""
           }
          },
          "title": {
           "x": 0.05
          },
          "xaxis": {
           "automargin": true,
           "gridcolor": "white",
           "linecolor": "white",
           "ticks": "",
           "title": {
            "standoff": 15
           },
           "zerolinecolor": "white",
           "zerolinewidth": 2
          },
          "yaxis": {
           "automargin": true,
           "gridcolor": "white",
           "linecolor": "white",
           "ticks": "",
           "title": {
            "standoff": 15
           },
           "zerolinecolor": "white",
           "zerolinewidth": 2
          }
         }
        },
        "title": {
         "text": "Scatter Plot: Solar vs. Wind Offshore and Onshore"
        },
        "xaxis": {
         "anchor": "y",
         "domain": [
          0,
          1
         ],
         "title": {
          "text": "Generation - Solar [MW] Day Ahead/ BZN|BE"
         }
        },
        "yaxis": {
         "anchor": "x",
         "domain": [
          0,
          1
         ],
         "title": {
          "text": "Wind Onshore - Actual Aggregated"
         }
        }
       }
      }
     },
     "metadata": {},
     "output_type": "display_data"
    }
   ],
   "source": [
    "import plotly.express as px\n",
    "import plotly.io as pio\n",
    "\n",
    "# Create the scatter plot for Solar vs. Intraday Wind\n",
    "scatter_fig1 = px.scatter(df, x=\"Solar  - Actual Aggregated [MW]\", y=\"Wind Offshore  - Actual Aggregated [MW]\", color=\"Wind Onshore  - Actual Aggregated [MW]\")\n",
    "scatter_fig1.update_traces(marker=dict(size=8))  # Change marker size\n",
    "scatter_fig1.update_layout(title=\"Scatter Plot: Solar vs. Wind Offshore and Onshore\", xaxis_title=\"Generation - Solar [MW] Day Ahead/ BZN|BE\", yaxis_title=\"Wind Onshore - Actual Aggregated\")\n",
    "\n",
    "# Display the scatter plot\n",
    "pio.show(scatter_fig1)\n"
   ]
  },
  {
   "cell_type": "code",
   "execution_count": null,
   "metadata": {},
   "outputs": [],
   "source": []
  },
  {
   "cell_type": "code",
   "execution_count": 9,
   "metadata": {},
   "outputs": [
    {
     "name": "stdout",
     "output_type": "stream",
     "text": [
      "<class 'pandas.core.frame.DataFrame'>\n",
      "Index: 24 entries, 06.07.2023 00:00 - 06.07.2023 01:00 (CET/CEST) to 06.07.2023 23:00 - 07.07.2023 00:00 (CET/CEST)\n",
      "Data columns (total 3 columns):\n",
      " #   Column                                   Non-Null Count  Dtype\n",
      "---  ------                                   --------------  -----\n",
      " 0   Solar  - Actual Aggregated [MW]          24 non-null     int64\n",
      " 1   Wind Offshore  - Actual Aggregated [MW]  24 non-null     int64\n",
      " 2   Wind Onshore  - Actual Aggregated [MW]   24 non-null     int64\n",
      "dtypes: int64(3)\n",
      "memory usage: 768.0+ bytes\n"
     ]
    }
   ],
   "source": [
    "df.info()"
   ]
  },
  {
   "cell_type": "code",
   "execution_count": 13,
   "metadata": {},
   "outputs": [
    {
     "name": "stderr",
     "output_type": "stream",
     "text": [
      "C:\\Users\\Salman Ishaq\\AppData\\Local\\Temp\\ipykernel_10644\\2727190314.py:1: UserWarning: Could not infer format, so each element will be parsed individually, falling back to `dateutil`. To ensure parsing is consistent and as-expected, please specify a format.\n",
      "  df1=pd.read_csv('Total Load - Day Ahead _ Actual_202307060000-202307070000 (1).csv',index_col=\"Time (CET/CEST)\",parse_dates=True)\n"
     ]
    },
    {
     "data": {
      "text/html": [
       "<div>\n",
       "<style scoped>\n",
       "    .dataframe tbody tr th:only-of-type {\n",
       "        vertical-align: middle;\n",
       "    }\n",
       "\n",
       "    .dataframe tbody tr th {\n",
       "        vertical-align: top;\n",
       "    }\n",
       "\n",
       "    .dataframe thead th {\n",
       "        text-align: right;\n",
       "    }\n",
       "</style>\n",
       "<table border=\"1\" class=\"dataframe\">\n",
       "  <thead>\n",
       "    <tr style=\"text-align: right;\">\n",
       "      <th></th>\n",
       "      <th>Day-ahead Total Load Forecast [MW] - BZN|AL</th>\n",
       "      <th>Actual Total Load [MW] - BZN|AL</th>\n",
       "    </tr>\n",
       "    <tr>\n",
       "      <th>Time (CET/CEST)</th>\n",
       "      <th></th>\n",
       "      <th></th>\n",
       "    </tr>\n",
       "  </thead>\n",
       "  <tbody>\n",
       "    <tr>\n",
       "      <th>06.07.2023 00:00 - 06.07.2023 00:15</th>\n",
       "      <td>614</td>\n",
       "      <td>NaN</td>\n",
       "    </tr>\n",
       "    <tr>\n",
       "      <th>06.07.2023 00:15 - 06.07.2023 00:30</th>\n",
       "      <td>614</td>\n",
       "      <td>NaN</td>\n",
       "    </tr>\n",
       "    <tr>\n",
       "      <th>06.07.2023 00:30 - 06.07.2023 00:45</th>\n",
       "      <td>614</td>\n",
       "      <td>NaN</td>\n",
       "    </tr>\n",
       "    <tr>\n",
       "      <th>06.07.2023 00:45 - 06.07.2023 01:00</th>\n",
       "      <td>614</td>\n",
       "      <td>NaN</td>\n",
       "    </tr>\n",
       "    <tr>\n",
       "      <th>06.07.2023 01:00 - 06.07.2023 01:15</th>\n",
       "      <td>554</td>\n",
       "      <td>NaN</td>\n",
       "    </tr>\n",
       "    <tr>\n",
       "      <th>...</th>\n",
       "      <td>...</td>\n",
       "      <td>...</td>\n",
       "    </tr>\n",
       "    <tr>\n",
       "      <th>06.07.2023 22:45 - 06.07.2023 23:00</th>\n",
       "      <td>860</td>\n",
       "      <td>NaN</td>\n",
       "    </tr>\n",
       "    <tr>\n",
       "      <th>06.07.2023 23:00 - 06.07.2023 23:15</th>\n",
       "      <td>723</td>\n",
       "      <td>NaN</td>\n",
       "    </tr>\n",
       "    <tr>\n",
       "      <th>06.07.2023 23:15 - 06.07.2023 23:30</th>\n",
       "      <td>723</td>\n",
       "      <td>NaN</td>\n",
       "    </tr>\n",
       "    <tr>\n",
       "      <th>06.07.2023 23:30 - 06.07.2023 23:45</th>\n",
       "      <td>723</td>\n",
       "      <td>NaN</td>\n",
       "    </tr>\n",
       "    <tr>\n",
       "      <th>06.07.2023 23:45 - 07.07.2023 00:00</th>\n",
       "      <td>723</td>\n",
       "      <td>NaN</td>\n",
       "    </tr>\n",
       "  </tbody>\n",
       "</table>\n",
       "<p>96 rows × 2 columns</p>\n",
       "</div>"
      ],
      "text/plain": [
       "                                     Day-ahead Total Load Forecast [MW] - BZN|AL  \\\n",
       "Time (CET/CEST)                                                                    \n",
       "06.07.2023 00:00 - 06.07.2023 00:15                                          614   \n",
       "06.07.2023 00:15 - 06.07.2023 00:30                                          614   \n",
       "06.07.2023 00:30 - 06.07.2023 00:45                                          614   \n",
       "06.07.2023 00:45 - 06.07.2023 01:00                                          614   \n",
       "06.07.2023 01:00 - 06.07.2023 01:15                                          554   \n",
       "...                                                                          ...   \n",
       "06.07.2023 22:45 - 06.07.2023 23:00                                          860   \n",
       "06.07.2023 23:00 - 06.07.2023 23:15                                          723   \n",
       "06.07.2023 23:15 - 06.07.2023 23:30                                          723   \n",
       "06.07.2023 23:30 - 06.07.2023 23:45                                          723   \n",
       "06.07.2023 23:45 - 07.07.2023 00:00                                          723   \n",
       "\n",
       "                                     Actual Total Load [MW] - BZN|AL  \n",
       "Time (CET/CEST)                                                       \n",
       "06.07.2023 00:00 - 06.07.2023 00:15                              NaN  \n",
       "06.07.2023 00:15 - 06.07.2023 00:30                              NaN  \n",
       "06.07.2023 00:30 - 06.07.2023 00:45                              NaN  \n",
       "06.07.2023 00:45 - 06.07.2023 01:00                              NaN  \n",
       "06.07.2023 01:00 - 06.07.2023 01:15                              NaN  \n",
       "...                                                              ...  \n",
       "06.07.2023 22:45 - 06.07.2023 23:00                              NaN  \n",
       "06.07.2023 23:00 - 06.07.2023 23:15                              NaN  \n",
       "06.07.2023 23:15 - 06.07.2023 23:30                              NaN  \n",
       "06.07.2023 23:30 - 06.07.2023 23:45                              NaN  \n",
       "06.07.2023 23:45 - 07.07.2023 00:00                              NaN  \n",
       "\n",
       "[96 rows x 2 columns]"
      ]
     },
     "execution_count": 13,
     "metadata": {},
     "output_type": "execute_result"
    }
   ],
   "source": [
    "df1=pd.read_csv('Total Load - Day Ahead _ Actual_202307060000-202307070000 (1).csv',index_col=\"Time (CET/CEST)\",parse_dates=True)\n",
    "df1"
   ]
  },
  {
   "cell_type": "code",
   "execution_count": 15,
   "metadata": {},
   "outputs": [
    {
     "data": {
      "text/html": [
       "<div>\n",
       "<style scoped>\n",
       "    .dataframe tbody tr th:only-of-type {\n",
       "        vertical-align: middle;\n",
       "    }\n",
       "\n",
       "    .dataframe tbody tr th {\n",
       "        vertical-align: top;\n",
       "    }\n",
       "\n",
       "    .dataframe thead th {\n",
       "        text-align: right;\n",
       "    }\n",
       "</style>\n",
       "<table border=\"1\" class=\"dataframe\">\n",
       "  <thead>\n",
       "    <tr style=\"text-align: right;\">\n",
       "      <th></th>\n",
       "      <th>Day-ahead Total Load Forecast [MW] - BZN|AL</th>\n",
       "    </tr>\n",
       "    <tr>\n",
       "      <th>Time (CET/CEST)</th>\n",
       "      <th></th>\n",
       "    </tr>\n",
       "  </thead>\n",
       "  <tbody>\n",
       "    <tr>\n",
       "      <th>06.07.2023 00:00 - 06.07.2023 00:15</th>\n",
       "      <td>614</td>\n",
       "    </tr>\n",
       "    <tr>\n",
       "      <th>06.07.2023 00:15 - 06.07.2023 00:30</th>\n",
       "      <td>614</td>\n",
       "    </tr>\n",
       "    <tr>\n",
       "      <th>06.07.2023 00:30 - 06.07.2023 00:45</th>\n",
       "      <td>614</td>\n",
       "    </tr>\n",
       "    <tr>\n",
       "      <th>06.07.2023 00:45 - 06.07.2023 01:00</th>\n",
       "      <td>614</td>\n",
       "    </tr>\n",
       "    <tr>\n",
       "      <th>06.07.2023 01:00 - 06.07.2023 01:15</th>\n",
       "      <td>554</td>\n",
       "    </tr>\n",
       "    <tr>\n",
       "      <th>...</th>\n",
       "      <td>...</td>\n",
       "    </tr>\n",
       "    <tr>\n",
       "      <th>06.07.2023 22:45 - 06.07.2023 23:00</th>\n",
       "      <td>860</td>\n",
       "    </tr>\n",
       "    <tr>\n",
       "      <th>06.07.2023 23:00 - 06.07.2023 23:15</th>\n",
       "      <td>723</td>\n",
       "    </tr>\n",
       "    <tr>\n",
       "      <th>06.07.2023 23:15 - 06.07.2023 23:30</th>\n",
       "      <td>723</td>\n",
       "    </tr>\n",
       "    <tr>\n",
       "      <th>06.07.2023 23:30 - 06.07.2023 23:45</th>\n",
       "      <td>723</td>\n",
       "    </tr>\n",
       "    <tr>\n",
       "      <th>06.07.2023 23:45 - 07.07.2023 00:00</th>\n",
       "      <td>723</td>\n",
       "    </tr>\n",
       "  </tbody>\n",
       "</table>\n",
       "<p>96 rows × 1 columns</p>\n",
       "</div>"
      ],
      "text/plain": [
       "                                     Day-ahead Total Load Forecast [MW] - BZN|AL\n",
       "Time (CET/CEST)                                                                 \n",
       "06.07.2023 00:00 - 06.07.2023 00:15                                          614\n",
       "06.07.2023 00:15 - 06.07.2023 00:30                                          614\n",
       "06.07.2023 00:30 - 06.07.2023 00:45                                          614\n",
       "06.07.2023 00:45 - 06.07.2023 01:00                                          614\n",
       "06.07.2023 01:00 - 06.07.2023 01:15                                          554\n",
       "...                                                                          ...\n",
       "06.07.2023 22:45 - 06.07.2023 23:00                                          860\n",
       "06.07.2023 23:00 - 06.07.2023 23:15                                          723\n",
       "06.07.2023 23:15 - 06.07.2023 23:30                                          723\n",
       "06.07.2023 23:30 - 06.07.2023 23:45                                          723\n",
       "06.07.2023 23:45 - 07.07.2023 00:00                                          723\n",
       "\n",
       "[96 rows x 1 columns]"
      ]
     },
     "execution_count": 15,
     "metadata": {},
     "output_type": "execute_result"
    }
   ],
   "source": [
    "columns_to_keep=[\"Day-ahead Total Load Forecast [MW] - BZN|AL\"]\n",
    "df1=df1[columns_to_keep]\n",
    "df1"
   ]
  },
  {
   "cell_type": "code",
   "execution_count": 21,
   "metadata": {},
   "outputs": [],
   "source": [
    "import pandas as pd\n",
    "\n",
    "# Read the first CSV file\n",
    "df1 = pd.read_csv(\"Actual Generation per Production Type_202307060000-202307070000.csv\")\n",
    "\n",
    "# Read the second CSV file\n",
    "df2 = pd.read_csv(\"Total Load - Day Ahead _ Actual_202307060000-202307070000 (1).csv\")\n",
    "\n",
    "# Combine the data from both DataFrames\n",
    "combined_data = pd.concat([df1, df2], axis=1)\n",
    "\n",
    "# Write the combined data to a new CSV file\n",
    "combined_data.to_csv(\"combined_data.csv\", index=False)\n",
    "\n"
   ]
  },
  {
   "cell_type": "code",
   "execution_count": 24,
   "metadata": {},
   "outputs": [
    {
     "name": "stderr",
     "output_type": "stream",
     "text": [
      "C:\\Users\\Salman Ishaq\\AppData\\Local\\Temp\\ipykernel_10644\\4288752956.py:1: UserWarning:\n",
      "\n",
      "Could not infer format, so each element will be parsed individually, falling back to `dateutil`. To ensure parsing is consistent and as-expected, please specify a format.\n",
      "\n"
     ]
    },
    {
     "data": {
      "text/html": [
       "<div>\n",
       "<style scoped>\n",
       "    .dataframe tbody tr th:only-of-type {\n",
       "        vertical-align: middle;\n",
       "    }\n",
       "\n",
       "    .dataframe tbody tr th {\n",
       "        vertical-align: top;\n",
       "    }\n",
       "\n",
       "    .dataframe thead th {\n",
       "        text-align: right;\n",
       "    }\n",
       "</style>\n",
       "<table border=\"1\" class=\"dataframe\">\n",
       "  <thead>\n",
       "    <tr style=\"text-align: right;\">\n",
       "      <th></th>\n",
       "      <th>Area</th>\n",
       "      <th>Biomass  - Actual Aggregated [MW]</th>\n",
       "      <th>Fossil Brown coal/Lignite  - Actual Aggregated [MW]</th>\n",
       "      <th>Fossil Coal-derived gas  - Actual Aggregated [MW]</th>\n",
       "      <th>Fossil Gas  - Actual Aggregated [MW]</th>\n",
       "      <th>Fossil Hard coal  - Actual Aggregated [MW]</th>\n",
       "      <th>Fossil Oil  - Actual Aggregated [MW]</th>\n",
       "      <th>Fossil Oil shale  - Actual Aggregated [MW]</th>\n",
       "      <th>Fossil Peat  - Actual Aggregated [MW]</th>\n",
       "      <th>Geothermal  - Actual Aggregated [MW]</th>\n",
       "      <th>...</th>\n",
       "      <th>Nuclear  - Actual Aggregated [MW]</th>\n",
       "      <th>Other  - Actual Aggregated [MW]</th>\n",
       "      <th>Other renewable  - Actual Aggregated [MW]</th>\n",
       "      <th>Solar  - Actual Aggregated [MW]</th>\n",
       "      <th>Waste  - Actual Aggregated [MW]</th>\n",
       "      <th>Wind Offshore  - Actual Aggregated [MW]</th>\n",
       "      <th>Wind Onshore  - Actual Aggregated [MW]</th>\n",
       "      <th>Time (CET/CEST)</th>\n",
       "      <th>Day-ahead Total Load Forecast [MW] - BZN|AL</th>\n",
       "      <th>Actual Total Load [MW] - BZN|AL</th>\n",
       "    </tr>\n",
       "    <tr>\n",
       "      <th>MTU</th>\n",
       "      <th></th>\n",
       "      <th></th>\n",
       "      <th></th>\n",
       "      <th></th>\n",
       "      <th></th>\n",
       "      <th></th>\n",
       "      <th></th>\n",
       "      <th></th>\n",
       "      <th></th>\n",
       "      <th></th>\n",
       "      <th></th>\n",
       "      <th></th>\n",
       "      <th></th>\n",
       "      <th></th>\n",
       "      <th></th>\n",
       "      <th></th>\n",
       "      <th></th>\n",
       "      <th></th>\n",
       "      <th></th>\n",
       "      <th></th>\n",
       "      <th></th>\n",
       "    </tr>\n",
       "  </thead>\n",
       "  <tbody>\n",
       "    <tr>\n",
       "      <th>06.07.2023 00:00 - 06.07.2023 01:00 (CET/CEST)</th>\n",
       "      <td>BZN|BE</td>\n",
       "      <td>12.0</td>\n",
       "      <td>n/e</td>\n",
       "      <td>n/e</td>\n",
       "      <td>756.0</td>\n",
       "      <td>n/e</td>\n",
       "      <td>0.0</td>\n",
       "      <td>n/e</td>\n",
       "      <td>n/e</td>\n",
       "      <td>n/e</td>\n",
       "      <td>...</td>\n",
       "      <td>3516.0</td>\n",
       "      <td>NaN</td>\n",
       "      <td>n/e</td>\n",
       "      <td>0.0</td>\n",
       "      <td>141.0</td>\n",
       "      <td>829.0</td>\n",
       "      <td>726.0</td>\n",
       "      <td>06.07.2023 00:00 - 06.07.2023 00:15</td>\n",
       "      <td>614</td>\n",
       "      <td>NaN</td>\n",
       "    </tr>\n",
       "    <tr>\n",
       "      <th>06.07.2023 01:00 - 06.07.2023 02:00 (CET/CEST)</th>\n",
       "      <td>BZN|BE</td>\n",
       "      <td>12.0</td>\n",
       "      <td>n/e</td>\n",
       "      <td>n/e</td>\n",
       "      <td>730.0</td>\n",
       "      <td>n/e</td>\n",
       "      <td>0.0</td>\n",
       "      <td>n/e</td>\n",
       "      <td>n/e</td>\n",
       "      <td>n/e</td>\n",
       "      <td>...</td>\n",
       "      <td>3534.0</td>\n",
       "      <td>NaN</td>\n",
       "      <td>n/e</td>\n",
       "      <td>0.0</td>\n",
       "      <td>141.0</td>\n",
       "      <td>575.0</td>\n",
       "      <td>727.0</td>\n",
       "      <td>06.07.2023 00:15 - 06.07.2023 00:30</td>\n",
       "      <td>614</td>\n",
       "      <td>NaN</td>\n",
       "    </tr>\n",
       "    <tr>\n",
       "      <th>06.07.2023 02:00 - 06.07.2023 03:00 (CET/CEST)</th>\n",
       "      <td>BZN|BE</td>\n",
       "      <td>12.0</td>\n",
       "      <td>n/e</td>\n",
       "      <td>n/e</td>\n",
       "      <td>683.0</td>\n",
       "      <td>n/e</td>\n",
       "      <td>0.0</td>\n",
       "      <td>n/e</td>\n",
       "      <td>n/e</td>\n",
       "      <td>n/e</td>\n",
       "      <td>...</td>\n",
       "      <td>3552.0</td>\n",
       "      <td>NaN</td>\n",
       "      <td>n/e</td>\n",
       "      <td>0.0</td>\n",
       "      <td>141.0</td>\n",
       "      <td>642.0</td>\n",
       "      <td>714.0</td>\n",
       "      <td>06.07.2023 00:30 - 06.07.2023 00:45</td>\n",
       "      <td>614</td>\n",
       "      <td>NaN</td>\n",
       "    </tr>\n",
       "    <tr>\n",
       "      <th>06.07.2023 03:00 - 06.07.2023 04:00 (CET/CEST)</th>\n",
       "      <td>BZN|BE</td>\n",
       "      <td>12.0</td>\n",
       "      <td>n/e</td>\n",
       "      <td>n/e</td>\n",
       "      <td>714.0</td>\n",
       "      <td>n/e</td>\n",
       "      <td>0.0</td>\n",
       "      <td>n/e</td>\n",
       "      <td>n/e</td>\n",
       "      <td>n/e</td>\n",
       "      <td>...</td>\n",
       "      <td>3565.0</td>\n",
       "      <td>NaN</td>\n",
       "      <td>n/e</td>\n",
       "      <td>0.0</td>\n",
       "      <td>140.0</td>\n",
       "      <td>494.0</td>\n",
       "      <td>673.0</td>\n",
       "      <td>06.07.2023 00:45 - 06.07.2023 01:00</td>\n",
       "      <td>614</td>\n",
       "      <td>NaN</td>\n",
       "    </tr>\n",
       "    <tr>\n",
       "      <th>06.07.2023 04:00 - 06.07.2023 05:00 (CET/CEST)</th>\n",
       "      <td>BZN|BE</td>\n",
       "      <td>12.0</td>\n",
       "      <td>n/e</td>\n",
       "      <td>n/e</td>\n",
       "      <td>1015.0</td>\n",
       "      <td>n/e</td>\n",
       "      <td>0.0</td>\n",
       "      <td>n/e</td>\n",
       "      <td>n/e</td>\n",
       "      <td>n/e</td>\n",
       "      <td>...</td>\n",
       "      <td>3577.0</td>\n",
       "      <td>NaN</td>\n",
       "      <td>n/e</td>\n",
       "      <td>0.0</td>\n",
       "      <td>142.0</td>\n",
       "      <td>421.0</td>\n",
       "      <td>606.0</td>\n",
       "      <td>06.07.2023 01:00 - 06.07.2023 01:15</td>\n",
       "      <td>554</td>\n",
       "      <td>NaN</td>\n",
       "    </tr>\n",
       "  </tbody>\n",
       "</table>\n",
       "<p>5 rows × 25 columns</p>\n",
       "</div>"
      ],
      "text/plain": [
       "                                                  Area  \\\n",
       "MTU                                                      \n",
       "06.07.2023 00:00 - 06.07.2023 01:00 (CET/CEST)  BZN|BE   \n",
       "06.07.2023 01:00 - 06.07.2023 02:00 (CET/CEST)  BZN|BE   \n",
       "06.07.2023 02:00 - 06.07.2023 03:00 (CET/CEST)  BZN|BE   \n",
       "06.07.2023 03:00 - 06.07.2023 04:00 (CET/CEST)  BZN|BE   \n",
       "06.07.2023 04:00 - 06.07.2023 05:00 (CET/CEST)  BZN|BE   \n",
       "\n",
       "                                                Biomass  - Actual Aggregated [MW]  \\\n",
       "MTU                                                                                 \n",
       "06.07.2023 00:00 - 06.07.2023 01:00 (CET/CEST)                               12.0   \n",
       "06.07.2023 01:00 - 06.07.2023 02:00 (CET/CEST)                               12.0   \n",
       "06.07.2023 02:00 - 06.07.2023 03:00 (CET/CEST)                               12.0   \n",
       "06.07.2023 03:00 - 06.07.2023 04:00 (CET/CEST)                               12.0   \n",
       "06.07.2023 04:00 - 06.07.2023 05:00 (CET/CEST)                               12.0   \n",
       "\n",
       "                                               Fossil Brown coal/Lignite  - Actual Aggregated [MW]  \\\n",
       "MTU                                                                                                  \n",
       "06.07.2023 00:00 - 06.07.2023 01:00 (CET/CEST)                                                n/e    \n",
       "06.07.2023 01:00 - 06.07.2023 02:00 (CET/CEST)                                                n/e    \n",
       "06.07.2023 02:00 - 06.07.2023 03:00 (CET/CEST)                                                n/e    \n",
       "06.07.2023 03:00 - 06.07.2023 04:00 (CET/CEST)                                                n/e    \n",
       "06.07.2023 04:00 - 06.07.2023 05:00 (CET/CEST)                                                n/e    \n",
       "\n",
       "                                               Fossil Coal-derived gas  - Actual Aggregated [MW]  \\\n",
       "MTU                                                                                                \n",
       "06.07.2023 00:00 - 06.07.2023 01:00 (CET/CEST)                                               n/e   \n",
       "06.07.2023 01:00 - 06.07.2023 02:00 (CET/CEST)                                               n/e   \n",
       "06.07.2023 02:00 - 06.07.2023 03:00 (CET/CEST)                                               n/e   \n",
       "06.07.2023 03:00 - 06.07.2023 04:00 (CET/CEST)                                               n/e   \n",
       "06.07.2023 04:00 - 06.07.2023 05:00 (CET/CEST)                                               n/e   \n",
       "\n",
       "                                                Fossil Gas  - Actual Aggregated [MW]  \\\n",
       "MTU                                                                                    \n",
       "06.07.2023 00:00 - 06.07.2023 01:00 (CET/CEST)                                 756.0   \n",
       "06.07.2023 01:00 - 06.07.2023 02:00 (CET/CEST)                                 730.0   \n",
       "06.07.2023 02:00 - 06.07.2023 03:00 (CET/CEST)                                 683.0   \n",
       "06.07.2023 03:00 - 06.07.2023 04:00 (CET/CEST)                                 714.0   \n",
       "06.07.2023 04:00 - 06.07.2023 05:00 (CET/CEST)                                1015.0   \n",
       "\n",
       "                                               Fossil Hard coal  - Actual Aggregated [MW]  \\\n",
       "MTU                                                                                         \n",
       "06.07.2023 00:00 - 06.07.2023 01:00 (CET/CEST)                                        n/e   \n",
       "06.07.2023 01:00 - 06.07.2023 02:00 (CET/CEST)                                        n/e   \n",
       "06.07.2023 02:00 - 06.07.2023 03:00 (CET/CEST)                                        n/e   \n",
       "06.07.2023 03:00 - 06.07.2023 04:00 (CET/CEST)                                        n/e   \n",
       "06.07.2023 04:00 - 06.07.2023 05:00 (CET/CEST)                                        n/e   \n",
       "\n",
       "                                                Fossil Oil  - Actual Aggregated [MW]  \\\n",
       "MTU                                                                                    \n",
       "06.07.2023 00:00 - 06.07.2023 01:00 (CET/CEST)                                   0.0   \n",
       "06.07.2023 01:00 - 06.07.2023 02:00 (CET/CEST)                                   0.0   \n",
       "06.07.2023 02:00 - 06.07.2023 03:00 (CET/CEST)                                   0.0   \n",
       "06.07.2023 03:00 - 06.07.2023 04:00 (CET/CEST)                                   0.0   \n",
       "06.07.2023 04:00 - 06.07.2023 05:00 (CET/CEST)                                   0.0   \n",
       "\n",
       "                                               Fossil Oil shale  - Actual Aggregated [MW]  \\\n",
       "MTU                                                                                         \n",
       "06.07.2023 00:00 - 06.07.2023 01:00 (CET/CEST)                                        n/e   \n",
       "06.07.2023 01:00 - 06.07.2023 02:00 (CET/CEST)                                        n/e   \n",
       "06.07.2023 02:00 - 06.07.2023 03:00 (CET/CEST)                                        n/e   \n",
       "06.07.2023 03:00 - 06.07.2023 04:00 (CET/CEST)                                        n/e   \n",
       "06.07.2023 04:00 - 06.07.2023 05:00 (CET/CEST)                                        n/e   \n",
       "\n",
       "                                               Fossil Peat  - Actual Aggregated [MW]  \\\n",
       "MTU                                                                                    \n",
       "06.07.2023 00:00 - 06.07.2023 01:00 (CET/CEST)                                   n/e   \n",
       "06.07.2023 01:00 - 06.07.2023 02:00 (CET/CEST)                                   n/e   \n",
       "06.07.2023 02:00 - 06.07.2023 03:00 (CET/CEST)                                   n/e   \n",
       "06.07.2023 03:00 - 06.07.2023 04:00 (CET/CEST)                                   n/e   \n",
       "06.07.2023 04:00 - 06.07.2023 05:00 (CET/CEST)                                   n/e   \n",
       "\n",
       "                                               Geothermal  - Actual Aggregated [MW]  \\\n",
       "MTU                                                                                   \n",
       "06.07.2023 00:00 - 06.07.2023 01:00 (CET/CEST)                                  n/e   \n",
       "06.07.2023 01:00 - 06.07.2023 02:00 (CET/CEST)                                  n/e   \n",
       "06.07.2023 02:00 - 06.07.2023 03:00 (CET/CEST)                                  n/e   \n",
       "06.07.2023 03:00 - 06.07.2023 04:00 (CET/CEST)                                  n/e   \n",
       "06.07.2023 04:00 - 06.07.2023 05:00 (CET/CEST)                                  n/e   \n",
       "\n",
       "                                                ...  \\\n",
       "MTU                                             ...   \n",
       "06.07.2023 00:00 - 06.07.2023 01:00 (CET/CEST)  ...   \n",
       "06.07.2023 01:00 - 06.07.2023 02:00 (CET/CEST)  ...   \n",
       "06.07.2023 02:00 - 06.07.2023 03:00 (CET/CEST)  ...   \n",
       "06.07.2023 03:00 - 06.07.2023 04:00 (CET/CEST)  ...   \n",
       "06.07.2023 04:00 - 06.07.2023 05:00 (CET/CEST)  ...   \n",
       "\n",
       "                                                Nuclear  - Actual Aggregated [MW]  \\\n",
       "MTU                                                                                 \n",
       "06.07.2023 00:00 - 06.07.2023 01:00 (CET/CEST)                             3516.0   \n",
       "06.07.2023 01:00 - 06.07.2023 02:00 (CET/CEST)                             3534.0   \n",
       "06.07.2023 02:00 - 06.07.2023 03:00 (CET/CEST)                             3552.0   \n",
       "06.07.2023 03:00 - 06.07.2023 04:00 (CET/CEST)                             3565.0   \n",
       "06.07.2023 04:00 - 06.07.2023 05:00 (CET/CEST)                             3577.0   \n",
       "\n",
       "                                                Other  - Actual Aggregated [MW]  \\\n",
       "MTU                                                                               \n",
       "06.07.2023 00:00 - 06.07.2023 01:00 (CET/CEST)                              NaN   \n",
       "06.07.2023 01:00 - 06.07.2023 02:00 (CET/CEST)                              NaN   \n",
       "06.07.2023 02:00 - 06.07.2023 03:00 (CET/CEST)                              NaN   \n",
       "06.07.2023 03:00 - 06.07.2023 04:00 (CET/CEST)                              NaN   \n",
       "06.07.2023 04:00 - 06.07.2023 05:00 (CET/CEST)                              NaN   \n",
       "\n",
       "                                                Other renewable  - Actual Aggregated [MW]  \\\n",
       "MTU                                                                                         \n",
       "06.07.2023 00:00 - 06.07.2023 01:00 (CET/CEST)                                        n/e   \n",
       "06.07.2023 01:00 - 06.07.2023 02:00 (CET/CEST)                                        n/e   \n",
       "06.07.2023 02:00 - 06.07.2023 03:00 (CET/CEST)                                        n/e   \n",
       "06.07.2023 03:00 - 06.07.2023 04:00 (CET/CEST)                                        n/e   \n",
       "06.07.2023 04:00 - 06.07.2023 05:00 (CET/CEST)                                        n/e   \n",
       "\n",
       "                                               Solar  - Actual Aggregated [MW]  \\\n",
       "MTU                                                                              \n",
       "06.07.2023 00:00 - 06.07.2023 01:00 (CET/CEST)                             0.0   \n",
       "06.07.2023 01:00 - 06.07.2023 02:00 (CET/CEST)                             0.0   \n",
       "06.07.2023 02:00 - 06.07.2023 03:00 (CET/CEST)                             0.0   \n",
       "06.07.2023 03:00 - 06.07.2023 04:00 (CET/CEST)                             0.0   \n",
       "06.07.2023 04:00 - 06.07.2023 05:00 (CET/CEST)                             0.0   \n",
       "\n",
       "                                               Waste  - Actual Aggregated [MW]  \\\n",
       "MTU                                                                              \n",
       "06.07.2023 00:00 - 06.07.2023 01:00 (CET/CEST)                           141.0   \n",
       "06.07.2023 01:00 - 06.07.2023 02:00 (CET/CEST)                           141.0   \n",
       "06.07.2023 02:00 - 06.07.2023 03:00 (CET/CEST)                           141.0   \n",
       "06.07.2023 03:00 - 06.07.2023 04:00 (CET/CEST)                           140.0   \n",
       "06.07.2023 04:00 - 06.07.2023 05:00 (CET/CEST)                           142.0   \n",
       "\n",
       "                                                Wind Offshore  - Actual Aggregated [MW]  \\\n",
       "MTU                                                                                       \n",
       "06.07.2023 00:00 - 06.07.2023 01:00 (CET/CEST)                                    829.0   \n",
       "06.07.2023 01:00 - 06.07.2023 02:00 (CET/CEST)                                    575.0   \n",
       "06.07.2023 02:00 - 06.07.2023 03:00 (CET/CEST)                                    642.0   \n",
       "06.07.2023 03:00 - 06.07.2023 04:00 (CET/CEST)                                    494.0   \n",
       "06.07.2023 04:00 - 06.07.2023 05:00 (CET/CEST)                                    421.0   \n",
       "\n",
       "                                                Wind Onshore  - Actual Aggregated [MW]  \\\n",
       "MTU                                                                                      \n",
       "06.07.2023 00:00 - 06.07.2023 01:00 (CET/CEST)                                   726.0   \n",
       "06.07.2023 01:00 - 06.07.2023 02:00 (CET/CEST)                                   727.0   \n",
       "06.07.2023 02:00 - 06.07.2023 03:00 (CET/CEST)                                   714.0   \n",
       "06.07.2023 03:00 - 06.07.2023 04:00 (CET/CEST)                                   673.0   \n",
       "06.07.2023 04:00 - 06.07.2023 05:00 (CET/CEST)                                   606.0   \n",
       "\n",
       "                                                                    Time (CET/CEST)  \\\n",
       "MTU                                                                                   \n",
       "06.07.2023 00:00 - 06.07.2023 01:00 (CET/CEST)  06.07.2023 00:00 - 06.07.2023 00:15   \n",
       "06.07.2023 01:00 - 06.07.2023 02:00 (CET/CEST)  06.07.2023 00:15 - 06.07.2023 00:30   \n",
       "06.07.2023 02:00 - 06.07.2023 03:00 (CET/CEST)  06.07.2023 00:30 - 06.07.2023 00:45   \n",
       "06.07.2023 03:00 - 06.07.2023 04:00 (CET/CEST)  06.07.2023 00:45 - 06.07.2023 01:00   \n",
       "06.07.2023 04:00 - 06.07.2023 05:00 (CET/CEST)  06.07.2023 01:00 - 06.07.2023 01:15   \n",
       "\n",
       "                                                Day-ahead Total Load Forecast [MW] - BZN|AL  \\\n",
       "MTU                                                                                           \n",
       "06.07.2023 00:00 - 06.07.2023 01:00 (CET/CEST)                                          614   \n",
       "06.07.2023 01:00 - 06.07.2023 02:00 (CET/CEST)                                          614   \n",
       "06.07.2023 02:00 - 06.07.2023 03:00 (CET/CEST)                                          614   \n",
       "06.07.2023 03:00 - 06.07.2023 04:00 (CET/CEST)                                          614   \n",
       "06.07.2023 04:00 - 06.07.2023 05:00 (CET/CEST)                                          554   \n",
       "\n",
       "                                                Actual Total Load [MW] - BZN|AL  \n",
       "MTU                                                                              \n",
       "06.07.2023 00:00 - 06.07.2023 01:00 (CET/CEST)                              NaN  \n",
       "06.07.2023 01:00 - 06.07.2023 02:00 (CET/CEST)                              NaN  \n",
       "06.07.2023 02:00 - 06.07.2023 03:00 (CET/CEST)                              NaN  \n",
       "06.07.2023 03:00 - 06.07.2023 04:00 (CET/CEST)                              NaN  \n",
       "06.07.2023 04:00 - 06.07.2023 05:00 (CET/CEST)                              NaN  \n",
       "\n",
       "[5 rows x 25 columns]"
      ]
     },
     "execution_count": 24,
     "metadata": {},
     "output_type": "execute_result"
    }
   ],
   "source": [
    "df2=pd.read_csv('combined_data.csv',index_col=\"MTU\",parse_dates=True)\n",
    "df2.head()"
   ]
  },
  {
   "cell_type": "code",
   "execution_count": 37,
   "metadata": {},
   "outputs": [
    {
     "data": {
      "text/plain": [
       "Solar  - Actual Aggregated [MW]                72\n",
       "Wind Offshore  - Actual Aggregated [MW]        72\n",
       "Wind Onshore  - Actual Aggregated [MW]         72\n",
       "Day-ahead Total Load Forecast [MW] - BZN|AL     0\n",
       "dtype: int64"
      ]
     },
     "execution_count": 37,
     "metadata": {},
     "output_type": "execute_result"
    }
   ],
   "source": [
    "columns_to_keep = [\"Solar  - Actual Aggregated [MW]\", \"Wind Offshore  - Actual Aggregated [MW]\", \"Wind Onshore  - Actual Aggregated [MW]\",\"Day-ahead Total Load Forecast [MW] - BZN|AL\"]\n",
    "df2 = df2[columns_to_keep]\n",
    "df2"
   ]
  }
 ],
 "metadata": {
  "kernelspec": {
   "display_name": "base",
   "language": "python",
   "name": "python3"
  },
  "language_info": {
   "codemirror_mode": {
    "name": "ipython",
    "version": 3
   },
   "file_extension": ".py",
   "mimetype": "text/x-python",
   "name": "python",
   "nbconvert_exporter": "python",
   "pygments_lexer": "ipython3",
   "version": "3.10.11"
  },
  "orig_nbformat": 4
 },
 "nbformat": 4,
 "nbformat_minor": 2
}
